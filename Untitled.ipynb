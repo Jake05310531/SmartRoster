{
 "cells": [
  {
   "cell_type": "code",
   "execution_count": 1,
   "id": "2c7783a5-3bdc-4d5d-9fb6-43c3aef84bba",
   "metadata": {},
   "outputs": [
    {
     "name": "stdout",
     "output_type": "stream",
     "text": [
      "SmartRoster is live!\n"
     ]
    }
   ],
   "source": [
    "print(\"SmartRoster is live!\")"
   ]
  },
  {
   "cell_type": "code",
   "execution_count": null,
   "id": "ed9dee54-cecc-4f9f-a5f1-f4b888d27049",
   "metadata": {},
   "outputs": [],
   "source": []
  }
 ],
 "metadata": {
  "kernelspec": {
   "display_name": "Python [conda env:base] *",
   "language": "python",
   "name": "conda-base-py"
  },
  "language_info": {
   "codemirror_mode": {
    "name": "ipython",
    "version": 3
   },
   "file_extension": ".py",
   "mimetype": "text/x-python",
   "name": "python",
   "nbconvert_exporter": "python",
   "pygments_lexer": "ipython3",
   "version": "3.12.7"
  }
 },
 "nbformat": 4,
 "nbformat_minor": 5
}
